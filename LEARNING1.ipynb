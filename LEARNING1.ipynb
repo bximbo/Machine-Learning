{
  "cells": [
    {
      "cell_type": "markdown",
      "metadata": {
        "id": "view-in-github",
        "colab_type": "text"
      },
      "source": [
        "<a href=\"https://colab.research.google.com/github/bximbo/Machine-Learning/blob/main/LEARNING1.ipynb\" target=\"_parent\"><img src=\"https://colab.research.google.com/assets/colab-badge.svg\" alt=\"Open In Colab\"/></a>"
      ]
    },
    {
      "cell_type": "markdown",
      "metadata": {
        "id": "0vSSw65bJiwn"
      },
      "source": [
        "ALL ABOUT TENSORS"
      ]
    },
    {
      "cell_type": "code",
      "execution_count": null,
      "metadata": {
        "colab": {
          "base_uri": "https://localhost:8080/"
        },
        "id": "GGhRSWYvmORu",
        "outputId": "e747c4db-8b0c-4068-ea13-014b12ef4633"
      },
      "outputs": [
        {
          "name": "stdout",
          "output_type": "stream",
          "text": [
            "tensor([[0.3597, 0.6195],\n",
            "        [0.5948, 0.3216]])\n",
            "tensor([[0.2189, 0.9775],\n",
            "        [0.9378, 0.1269]])\n",
            "torch.Size([2, 2])\n",
            "torch.Size([1, 4])\n",
            "tensor(0.4739)\n"
          ]
        }
      ],
      "source": [
        "import torch\n",
        "x = torch.rand(2, 2)\n",
        "y = torch.rand(2,2 )\n",
        "print(x )\n",
        "print(y  )\n",
        "z = torch.mul(x, y)\n",
        "print(z.size()  )\n",
        "#r = y + x\n",
        "# x.mul_(y)\n",
        "\n",
        "Q = x.view(1,4)\n",
        "print(Q.size())\n",
        "\n",
        "x = x.mean()\n",
        "\n",
        "print (x)"
      ]
    },
    {
      "cell_type": "code",
      "execution_count": null,
      "metadata": {
        "colab": {
          "base_uri": "https://localhost:8080/"
        },
        "id": "yR9LtDMgolG0",
        "outputId": "6da91a37-0508-4b3b-8e8c-053bcbd98c3f"
      },
      "outputs": [
        {
          "name": "stdout",
          "output_type": "stream",
          "text": [
            "torch.float32\n"
          ]
        }
      ],
      "source": [
        "import torch\n",
        "u = torch.ones( 2, 2, dtype= torch.int)\n",
        "print(y.dtype)"
      ]
    },
    {
      "cell_type": "code",
      "execution_count": null,
      "metadata": {
        "colab": {
          "base_uri": "https://localhost:8080/"
        },
        "id": "0UhaGauFjOYC",
        "outputId": "015c2459-8368-4e04-85ba-89c4da7b704e"
      },
      "outputs": [
        {
          "name": "stdout",
          "output_type": "stream",
          "text": [
            "tensor([[0.6154, 0.1268, 0.9877, 0.5839, 0.8550],\n",
            "        [0.3255, 0.1624, 0.7571, 0.3807, 0.8414],\n",
            "        [0.1010, 0.3759, 0.4483, 0.5821, 0.9878],\n",
            "        [0.5785, 0.2758, 0.6899, 0.3675, 0.8719],\n",
            "        [0.4122, 0.5525, 0.8559, 0.4879, 0.1096]])\n",
            "tensor([0.6154, 0.3255, 0.1010, 0.5785, 0.4122])\n",
            "tensor([0.1010, 0.3759, 0.4483, 0.5821, 0.9878])\n",
            "tensor([0.7571, 0.3807, 0.8414])\n",
            "tensor([0.3255, 0.1624])\n"
          ]
        }
      ],
      "source": [
        "i = torch.rand(5, 5 )\n",
        "print (i)\n",
        "print (i[:, 0]) #printed the first columns\n",
        "print (i[2, :]) #printed the 3rd row\n",
        "print (i [1,2: ])\n",
        "print (i [1,:2 ]) #print through row 2 and column before 2nd"
      ]
    },
    {
      "cell_type": "markdown",
      "metadata": {
        "id": "oomOPG7Glu5q"
      },
      "source": [
        "TENSOR TO NUMPY & VICE VERSA"
      ]
    },
    {
      "cell_type": "code",
      "execution_count": null,
      "metadata": {
        "colab": {
          "base_uri": "https://localhost:8080/"
        },
        "id": "2BiPxy3RAMHS",
        "outputId": "b5e8a8c3-059b-4ba5-adb1-0fd1e7fdd6a6"
      },
      "outputs": [
        {
          "name": "stdout",
          "output_type": "stream",
          "text": [
            "tensor([1., 1., 1., 1., 1.])\n",
            "<class 'torch.Tensor'>\n",
            "[1. 1. 1. 1. 1.]\n",
            "<class 'numpy.ndarray'>\n",
            "tensor([2., 2., 2., 2., 2.])\n",
            "[2. 2. 2. 2. 2.]\n",
            "[1. 1. 1. 1. 1.]\n",
            "<class 'numpy.ndarray'>\n",
            "tensor([1., 1., 1., 1., 1.])\n",
            "<class 'torch.Tensor'>\n",
            "tensor([2., 2., 2., 2., 2.])\n"
          ]
        }
      ],
      "source": [
        "import torch\n",
        "import numpy as np\n",
        "\n",
        "a = torch.ones(5)\n",
        "print(a)\n",
        "print(type(a))\n",
        "\n",
        "#b = torch.ones(5) .numpy\n",
        "#print(type(b))\n",
        "\n",
        "c = a.numpy()\n",
        "print(c)\n",
        "print(type(c))\n",
        "\n",
        "a.add_(1)\n",
        "print(a)\n",
        "print(c)\n",
        "\n",
        "\n",
        "d = np.ones(5)\n",
        "print (d)\n",
        "print (type(d))\n",
        "\n",
        "#e = torch.from_numpy(d.astype(np.float32))\n",
        "#or\n",
        "e = torch.tensor( d.astype(np.float32))\n",
        "#without type is naturally uses float64\n",
        "\n",
        "\n",
        "print (e)\n",
        "print(type(e))\n",
        "\n",
        "e += 1\n",
        "print (e)"
      ]
    },
    {
      "cell_type": "markdown",
      "metadata": {
        "id": "NA6kSsWMJY2N"
      },
      "source": [
        "AUTO GRAD"
      ]
    },
    {
      "cell_type": "code",
      "execution_count": null,
      "metadata": {
        "colab": {
          "base_uri": "https://localhost:8080/"
        },
        "id": "OHrlOa5xJYAi",
        "outputId": "5a4cbacb-ca30-4a67-db4c-cd2ca74da97a"
      },
      "outputs": [
        {
          "name": "stdout",
          "output_type": "stream",
          "text": [
            "tensor([[0.0631, 0.9488, 0.2654],\n",
            "        [0.9281, 0.5603, 0.1408],\n",
            "        [0.3336, 0.8780, 0.2229]], requires_grad=True)\n",
            "tensor(2.4823, grad_fn=<MeanBackward0>)\n",
            "tensor([[0.1111, 0.1111, 0.1111],\n",
            "        [0.1111, 0.1111, 0.1111],\n",
            "        [0.1111, 0.1111, 0.1111]])\n",
            "tensor([[0.2720, 0.6984],\n",
            "        [0.4281, 0.2971]], requires_grad=True)\n",
            "tensor([[0.1000, 1.0000],\n",
            "        [1.0000, 0.1000]])\n",
            "tensor([[2.2720, 2.6984],\n",
            "        [2.4281, 2.2971]], grad_fn=<AddBackward0>)\n",
            "tensor([[2.2720, 2.6984],\n",
            "        [2.4281, 2.2971]], grad_fn=<AddBackward0>)\n"
          ]
        }
      ],
      "source": [
        "import torch\n",
        "\n",
        "aa = torch.rand(3, 3,  requires_grad = True )\n",
        "print(aa)\n",
        "\n",
        "bb = aa + 2\n",
        "bb= bb.mean()\n",
        "print(bb )\n",
        "\n",
        "bb.backward() # initializing direction for gradient (dbb/daa)\n",
        "print  (aa.grad)  #dbb/daa\n",
        "\n",
        "\n",
        "# Or.. especially if bb wasn't a scaler output\n",
        "\n",
        "cc = torch.rand(2,2, requires_grad = True)\n",
        "# cc = cc.mean()\n",
        "print (cc)\n",
        "\n",
        "qq = cc + 2\n",
        "\n",
        "zz = torch.tensor ([[0.1, 1.0], [1.0, 0.1]], dtype = torch.float)\n",
        "\n",
        "qq.backward(zz)\n",
        "print (cc.grad)\n",
        "\n",
        "\n",
        "# TO discontinue the grad\n",
        "# x.requires_grad_(False)\n",
        "# x.detach()\n",
        "# with torch.no_grad():\n",
        "\n",
        "#cc.requires_grad_(False)\n",
        "\n",
        "#rr = cc.detach()\n",
        "with torch.no_grad():\n",
        "  rr = cc + 2\n",
        "print (rr )"
      ]
    },
    {
      "cell_type": "code",
      "execution_count": null,
      "metadata": {
        "id": "lJZOI45I3Sg3"
      },
      "outputs": [],
      "source": []
    },
    {
      "cell_type": "markdown",
      "metadata": {
        "id": "RsCoHLOMm1qS"
      },
      "source": [
        "DUMMY TRAINING"
      ]
    },
    {
      "cell_type": "code",
      "execution_count": null,
      "metadata": {
        "colab": {
          "base_uri": "https://localhost:8080/"
        },
        "id": "YJenFe6DmywF",
        "outputId": "3c441ea0-34b5-4afa-dbff-d3bd0af6a538"
      },
      "outputs": [
        {
          "name": "stdout",
          "output_type": "stream",
          "text": [
            "tensor([1., 1., 1., 1.], requires_grad=True)\n",
            "tensor([3., 3., 3., 3.])\n",
            "tensor([3., 3., 3., 3.])\n",
            "tensor([3., 3., 3., 3.])\n"
          ]
        }
      ],
      "source": [
        "import torch\n",
        "\n",
        "weight = torch.ones(4, requires_grad = True)\n",
        "print(weight)\n",
        "\n",
        "for epoch in range (3):\n",
        "  model_outputs = (weight * 3).sum()\n",
        "\n",
        "  model_outputs.backward()\n",
        "\n",
        "  print(weight.grad)\n",
        "\n",
        "  weight.grad.zero_()\n",
        "\n",
        "\n",
        "\n",
        "#AT OPTIMIZER LEVEL AFTER IMPORT ... the below was for documentation\n",
        "\n",
        "optimizer = torch.optim.SGD(weight, lr = 0.01)\n",
        "\n",
        "optimizer.step()\n",
        "optimizer.zero_grad"
      ]
    },
    {
      "cell_type": "code",
      "execution_count": null,
      "metadata": {
        "colab": {
          "base_uri": "https://localhost:8080/"
        },
        "id": "xsxGL1iDMk8y",
        "outputId": "990ae519-84ff-48d9-b97b-747a49a4f65b"
      },
      "outputs": [
        {
          "name": "stdout",
          "output_type": "stream",
          "text": [
            "tensor([[3., 3.],\n",
            "        [3., 3.]])\n",
            "tensor([[3., 3.],\n",
            "        [3., 3.]])\n",
            "tensor([[3., 3.],\n",
            "        [3., 3.]])\n"
          ]
        }
      ],
      "source": [
        "import torch\n",
        "\n",
        "weights = torch.ones(2,2 , requires_grad = True)\n",
        "\n",
        "for epoch in range(3):\n",
        "  output = (weights * 3).sum()\n",
        "  # weights.requires_grad(False)\n",
        "\n",
        "\n",
        "  output.backward()\n",
        "  print(weights.grad)\n",
        "\n",
        "  weights.grad.zero_()"
      ]
    },
    {
      "cell_type": "markdown",
      "metadata": {
        "id": "YUpYthFqU96d"
      },
      "source": [
        "BACKWARD PROBATION (FULL CIRCLE)"
      ]
    },
    {
      "cell_type": "code",
      "execution_count": null,
      "metadata": {
        "colab": {
          "base_uri": "https://localhost:8080/"
        },
        "id": "LUkbekIgU1ai",
        "outputId": "6e384a9c-dad3-4878-98fc-1bf61c050f75"
      },
      "outputs": [
        {
          "name": "stdout",
          "output_type": "stream",
          "text": [
            "y_hat: tensor(1., grad_fn=<MulBackward0>)\n",
            "Loss: tensor(1., grad_fn=<PowBackward0>)\n",
            "dLoss/dWeight gradient: tensor(-2.)\n"
          ]
        }
      ],
      "source": [
        "# initializing\n",
        "\n",
        "import torch\n",
        "\n",
        "# declaring maybe variables\n",
        "\n",
        "x = torch.tensor(1.0)  #maybe an initial input asin something to use to train or test\n",
        "y = torch.tensor(2.0)  #maybe a second input asin something to use to train or test i believe this is the second input. though either it's entering the second node as an output of the first node or it is part of the input entering a different node on the same layer\n",
        "\n",
        "w = torch.tensor(1.0,  requires_grad = True)  #initial weight\n",
        "\n",
        "#forward pass & compute loss\n",
        "\n",
        "y_hat = x * w\n",
        "loss = (y_hat - y) ** 2\n",
        "\n",
        "print(f'y_hat:', y_hat)\n",
        "print(f'Loss:', loss)\n",
        "\n",
        "# second step wpuld be to calculate local gradient but that is done by the program already\n",
        "\n",
        "#Backward pass: compute gradient\n",
        "\n",
        "loss.backward()\n",
        "print(f'dLoss/dWeight gradient:', w.grad)\n",
        "\n",
        "\n",
        "#run for each epoch"
      ]
    },
    {
      "cell_type": "markdown",
      "metadata": {
        "id": "VnTYi_z0gF-5"
      },
      "source": [
        "#TRAINING MANUALLY (LOGISTICS REGRESSION I BELIEVE) using NUMPY\n",
        "\n",
        "* Prediction: Manually\n",
        "* Gradients Computations: Manually\n",
        "* Loss Computation: Manually\n",
        "* Parameter updates(Optimization step): Manually\n",
        "\n",
        "Note that over my learning phases i will come back to keep optimizing this code to maximize plug and play performance\n"
      ]
    },
    {
      "cell_type": "code",
      "execution_count": null,
      "metadata": {
        "colab": {
          "base_uri": "https://localhost:8080/"
        },
        "id": "gT4yMlysgFel",
        "outputId": "64820290-a235-4034-a2b2-1a1b78a2542c"
      },
      "outputs": [
        {
          "name": "stdout",
          "output_type": "stream",
          "text": [
            "Prediction before training, at f(5) =  0.000\n",
            "Epoch 1: Weight: 1.200   loss: 30.00000000\n",
            "Epoch 2: Weight: 1.680   loss: 4.79999924\n",
            "Epoch 3: Weight: 1.872   loss: 0.76800019\n",
            "Epoch 4: Weight: 1.949   loss: 0.12288000\n",
            "Epoch 5: Weight: 1.980   loss: 0.01966083\n",
            "Epoch 6: Weight: 1.992   loss: 0.00314574\n",
            "Epoch 7: Weight: 1.997   loss: 0.00050331\n",
            "Epoch 8: Weight: 1.999   loss: 0.00008053\n",
            "Epoch 9: Weight: 1.999   loss: 0.00001288\n",
            "Epoch 10: Weight: 2.000   loss: 0.00000206\n",
            "Epoch 11: Weight: 2.000   loss: 0.00000033\n",
            "Prediction after training at f(5) =  10.000\n"
          ]
        }
      ],
      "source": [
        "import torch\n",
        "\n",
        "# f = w * x\n",
        "\n",
        "# f = 2 * x\n",
        "\n",
        "X = torch.tensor([1, 2, 3, 4], dtype = torch.float32)   #training data\n",
        "Y = torch.tensor([2, 4, 6, 8], dtype = torch.float32)   #training data\n",
        "\n",
        "w = 0.0\n",
        "\n",
        "#Model Prediction\n",
        "def forward(x):\n",
        "  return w  * x\n",
        "\n",
        "#loss = MSE\n",
        "def loss( y, y_predicted ):\n",
        "  return ((y_predicted - y)**2).mean()\n",
        "\n",
        "#Calculate gradient\n",
        "# MSE = 1/N (w*x - y) ** 2\n",
        "# dLoss/dWeight = 1/N 2x * (w*x - y)\n",
        "def gradient(y, x, y_predicted):\n",
        "  return (np.dot(2*x, y_predicted - y)).mean()\n",
        "\n",
        "\n",
        "print(f'Prediction before training, at f(5) =  {forward(5):.3f}')\n",
        "\n",
        "#TRAINING\n",
        "\n",
        "learning_rate = 0.01\n",
        "num_epoch = 11\n",
        "\n",
        "for epoch in range(num_epoch):\n",
        "\n",
        "  # Prediction or forward pass\n",
        "  y_pred = forward(X)\n",
        "\n",
        "  #loss\n",
        "  losses = loss( Y,  y_pred)\n",
        "\n",
        "  #gradient = backward pass\n",
        "  dw = gradient(Y, X, y_pred)\n",
        "\n",
        "  # Parameter update weights with gradients\n",
        "  w -= learning_rate * dw\n",
        "\n",
        "  if epoch % 1 == 0:\n",
        "    print(f'Epoch {epoch+1}: Weight: {w :.3f}   loss: {losses:.8f}')\n",
        "\n",
        "print(f'Prediction after training at f(5) =  {forward(5):.3f}')\n",
        "\n"
      ]
    },
    {
      "cell_type": "markdown",
      "metadata": {
        "id": "Dx8H1Kvdb6f4"
      },
      "source": [
        "#AUTOMATING THE TRAINING using PYTORCH\n",
        "\n",
        "* Prediction: Model function or custom architecture\n",
        "* Gradients Computations: Autograd\n",
        "* Loss Computation: MSELoss function\n",
        "* Parameter updates(Optimization step): optimizer function with manually ending the grad\n",
        "\n",
        "//Note that over my learning phases i will come back to keep optimizing this code to maximize plug and play performance"
      ]
    },
    {
      "cell_type": "code",
      "execution_count": null,
      "metadata": {
        "colab": {
          "base_uri": "https://localhost:8080/"
        },
        "id": "fnvw4_r5b05C",
        "outputId": "213c1f9b-c68d-43cb-f36e-2eac7b944917"
      },
      "outputs": [
        {
          "name": "stdout",
          "output_type": "stream",
          "text": [
            "4 1\n",
            "Prediction before training, at f(5) =  4.772\n",
            "Epoch 1: Weight: 1.074  loss: 7.85537529\n",
            "Epoch 11: Weight: 1.719  loss: 0.23842786\n",
            "Epoch 21: Weight: 1.827  loss: 0.03931081\n",
            "Epoch 31: Weight: 1.848  loss: 0.03223015\n",
            "Epoch 41: Weight: 1.855  loss: 0.03023019\n",
            "Epoch 51: Weight: 1.860  loss: 0.02846742\n",
            "Epoch 61: Weight: 1.864  loss: 0.02681035\n",
            "Epoch 71: Weight: 1.868  loss: 0.02524987\n",
            "Epoch 81: Weight: 1.872  loss: 0.02378018\n",
            "Epoch 91: Weight: 1.876  loss: 0.02239608\n",
            "Prediction after training at f(5) =   9.751\n"
          ]
        }
      ],
      "source": [
        "# TO-DO LIST\n",
        "# 1. Design the model (inputs & outputs sizes, forward pass)\n",
        "# 2. compute loss and optimizer\n",
        "# 3. Training loop\n",
        "#    - Forward pass: Compute Prediction\n",
        "#    - Backward pass: Calculate gradient\n",
        "#    - Update parameters\n",
        "\n",
        "\n",
        "import torch\n",
        "import torch.nn as nn\n",
        "\n",
        "# f = w * x\n",
        "\n",
        "# f = 2 * x\n",
        "\n",
        "X = torch.tensor([[1], [2], [3], [4]], dtype = torch.float32)   #training data\n",
        "Y = torch.tensor([[2], [4], [6], [8]], dtype = torch.float32)   #training data\n",
        "\n",
        "test_input =  torch.tensor([5], dtype = torch.float32)   #test sample\n",
        "\n",
        "sample_size, feature_size = X.shape\n",
        "print(sample_size, feature_size)\n",
        "\n",
        "n_inputs = feature_size\n",
        "n_outputs = feature_size\n",
        "\n",
        "#Model Prediction\n",
        "#model = nn.Linear(n_inputs, n_outputs).         This is an inbuilt no layer function\n",
        "# Orrrrrrrr\n",
        "\n",
        "class bimbo(nn.Module):\n",
        "  def __init__(self, inputs_dim, outputs_dim ):\n",
        "    super(bimbo, self).__init__()\n",
        "    # define layers\n",
        "    self.lin = nn.Linear(inputs_dim, outputs_dim)\n",
        "\n",
        "  def forward  (self, x):\n",
        "    return self.lin(x)\n",
        "\n",
        "model = bimbo(n_inputs, n_outputs)\n",
        "\n",
        "\n",
        "print(f'Prediction before training, at f(5) =  {model(test_input).item():.3f}')\n",
        "\n",
        "#TRAINING\n",
        "\n",
        "learning_rate = 0.01\n",
        "num_epoch = 100\n",
        "\n",
        "#loss = MSE\n",
        "loss = nn.MSELoss()\n",
        "optimizer = torch.optim.SGD(model.parameters(), lr = learning_rate)\n",
        "\n",
        "for epoch in range(num_epoch):\n",
        "\n",
        "  # Prediction or forward pass\n",
        "  y_pred = model(X)\n",
        "\n",
        "  #loss\n",
        "  losses = loss( Y,  y_pred)\n",
        "\n",
        "  #gradient = backward pass\n",
        "  losses.backward()    #dLosses/dWeights\n",
        "\n",
        "\n",
        "  # Parameter updates (weights in model) with gradient\n",
        "  optimizer.step()     #this will serve as the optimizer step\n",
        "\n",
        "  # Zero gradient\n",
        "  optimizer.zero_grad()\n",
        "\n",
        "  if epoch % 10  == 0:\n",
        "    [w, b] = model.parameters()\n",
        "    print(f'Epoch {epoch+1}: Weight: {w[0][0]:.3f}  loss: {losses:.8f}')\n",
        "\n",
        "print(f'Prediction after training at f(5) =   {model(test_input).item():.3f}')\n",
        "\n"
      ]
    },
    {
      "cell_type": "markdown",
      "metadata": {
        "id": "QzvesO3Jo4xS"
      },
      "source": [
        "#PRACTICING A LINEAR REGRESSION CODE FROM ALL I HAVE LEARNED\n",
        "So help me God"
      ]
    },
    {
      "cell_type": "code",
      "execution_count": null,
      "metadata": {
        "colab": {
          "base_uri": "https://localhost:8080/",
          "height": 449
        },
        "id": "rcdpHpX7o4SV",
        "outputId": "49cde862-9b5d-4d54-e4a2-0bc2e200f052"
      },
      "outputs": [
        {
          "name": "stdout",
          "output_type": "stream",
          "text": [
            "Epoch: 100000 Loss: 332.56756592 \n"
          ]
        },
        {
          "data": {
            "image/png": "[encoded data removed]",
            "text/plain": [
              "<Figure size 640x480 with 1 Axes>"
            ]
          },
          "metadata": {},
          "output_type": "display_data"
        }
      ],
      "source": [
        "# TO-DO LIST\n",
        "# 1. Import the necessariesss\n",
        "# 2. Data preping x converting\n",
        "# 3. Design the model (inputs & outputs sizes, forward pass)\n",
        "# 4. compute loss and optimizer\n",
        "# 5. Training loop\n",
        "#    - Forward pass: Compute Prediction\n",
        "#    - Backward pass: Calculate gradient\n",
        "#    - Update parameters\n",
        "# 6. Evalaute (This time just using graph(PLOT))\n",
        "\n",
        "#1.\n",
        "import torch\n",
        "import torch.nn as nn\n",
        "import numpy as np          #For the necessary data transformations\n",
        "from sklearn import datasets\n",
        "import matplotlib.pyplot as plt\n",
        "\n",
        "#2.\n",
        "X_numpy, y_numpy = datasets.make_regression(n_samples = 100, n_features = 1, noise = 20, random_state = 1)\n",
        "\n",
        "X = torch.from_numpy(X_numpy.astype(np.float32))\n",
        "y = torch.from_numpy(y_numpy.astype(np.float32))\n",
        "y = y.view(y.shape[0], 1)\n",
        "\n",
        "n_samples, n_features  = X.shape\n",
        "\n",
        "#3.\n",
        "input_size = n_features\n",
        "output_size = 1\n",
        "\n",
        "#model = nn.Linear(input_size, output_size)\n",
        "\n",
        "\n",
        "#Orrrrrrrrrrrrrrr\n",
        "class bimbo(nn.Module):\n",
        "  def __init__(self, input_dim, output_dim):\n",
        "    super(bimbo,self).__init__()\n",
        "    # define layers\n",
        "    self.lin = nn.Linear(input_dim, output_dim)\n",
        "\n",
        "\n",
        "  def forward(self, x):\n",
        "    return self.lin(x)\n",
        "\n",
        "model = bimbo(input_size, output_size)\n",
        "\n",
        "#4.\n",
        "learning_rate = 0.01\n",
        "criterion = nn.MSELoss()\n",
        "optimizer = torch.optim.SGD(model.parameters(), lr = learning_rate)\n",
        "\n",
        "#5.\n",
        "num_epoch = 100000\n",
        "for epoch in range(num_epoch):\n",
        "  #forward pass\n",
        "  y_predicted = model(X)\n",
        "\n",
        "  #loss\n",
        "  loss = criterion (y_predicted, y)\n",
        "\n",
        "  #backward\n",
        "  loss.backward()\n",
        "\n",
        "  #update\n",
        "  optimizer.step()\n",
        "  #end gradient to avoid sums\n",
        "  optimizer.zero_grad()\n",
        "\n",
        "  if (epoch+1) % 100000 == 0:\n",
        "    print(f'Epoch: {epoch+1} Loss: {loss.item():.8f} ')\n",
        "\n",
        "\n",
        "#6.\n",
        "predicted = model(X).detach().numpy()\n",
        "plt.plot(X_numpy, y_numpy, 'ro')\n",
        "plt.plot(X_numpy, predicted,  'b')\n",
        "plt.show()\n",
        "#print(f'X_numpy: {X_numpy}')\n",
        "#print(f'predicted: {predicted}')\n",
        "#print(f'y_numpy: {y_numpy}')"
      ]
    },
    {
      "cell_type": "markdown",
      "metadata": {
        "id": "pqXFwndV7hMC"
      },
      "source": [
        "#PRACTICING A LOGISTIC REGRESSION CODE FROM ALL I HAVE LEARNED\n",
        "So help me God"
      ]
    },
    {
      "cell_type": "code",
      "execution_count": null,
      "metadata": {
        "colab": {
          "base_uri": "https://localhost:8080/"
        },
        "id": "LBloM51x7fF9",
        "outputId": "41f7d914-0744-49c4-aa55-5522ecbaf291"
      },
      "outputs": [
        {
          "name": "stdout",
          "output_type": "stream",
          "text": [
            "epoch: 20/200 loss: 0.47832\n",
            "epoch: 40/200 loss: 0.36693\n",
            "epoch: 60/200 loss: 0.30890\n",
            "epoch: 80/200 loss: 0.27222\n",
            "epoch: 100/200 loss: 0.24637\n",
            "epoch: 120/200 loss: 0.22688\n",
            "epoch: 140/200 loss: 0.21148\n",
            "epoch: 160/200 loss: 0.19891\n",
            "epoch: 180/200 loss: 0.18839\n",
            "epoch: 200/200 loss: 0.17944\n",
            "Accuracy: 0.89\n",
            "tensor([[1.],\n",
            "        [1.],\n",
            "        [1.],\n",
            "        [1.],\n",
            "        [1.],\n",
            "        [1.],\n",
            "        [1.],\n",
            "        [1.],\n",
            "        [0.],\n",
            "        [0.],\n",
            "        [0.],\n",
            "        [1.],\n",
            "        [1.],\n",
            "        [1.],\n",
            "        [1.],\n",
            "        [0.],\n",
            "        [1.],\n",
            "        [1.],\n",
            "        [1.],\n",
            "        [0.],\n",
            "        [1.],\n",
            "        [0.],\n",
            "        [0.],\n",
            "        [0.],\n",
            "        [0.],\n",
            "        [1.],\n",
            "        [1.],\n",
            "        [1.],\n",
            "        [1.],\n",
            "        [1.],\n",
            "        [1.],\n",
            "        [1.],\n",
            "        [0.],\n",
            "        [1.],\n",
            "        [1.],\n",
            "        [1.],\n",
            "        [1.],\n",
            "        [0.],\n",
            "        [1.],\n",
            "        [1.],\n",
            "        [0.],\n",
            "        [1.],\n",
            "        [0.],\n",
            "        [1.],\n",
            "        [1.],\n",
            "        [1.],\n",
            "        [1.],\n",
            "        [1.],\n",
            "        [0.],\n",
            "        [1.],\n",
            "        [0.],\n",
            "        [1.],\n",
            "        [1.],\n",
            "        [0.],\n",
            "        [1.],\n",
            "        [1.],\n",
            "        [1.],\n",
            "        [1.],\n",
            "        [1.],\n",
            "        [0.],\n",
            "        [0.],\n",
            "        [1.],\n",
            "        [1.],\n",
            "        [1.],\n",
            "        [1.],\n",
            "        [0.],\n",
            "        [0.],\n",
            "        [1.],\n",
            "        [1.],\n",
            "        [1.],\n",
            "        [1.],\n",
            "        [0.],\n",
            "        [1.],\n",
            "        [0.],\n",
            "        [1.],\n",
            "        [1.],\n",
            "        [1.],\n",
            "        [0.],\n",
            "        [1.],\n",
            "        [0.],\n",
            "        [1.],\n",
            "        [1.],\n",
            "        [1.],\n",
            "        [1.],\n",
            "        [0.],\n",
            "        [0.],\n",
            "        [0.],\n",
            "        [0.],\n",
            "        [1.],\n",
            "        [1.],\n",
            "        [1.],\n",
            "        [1.],\n",
            "        [1.],\n",
            "        [0.],\n",
            "        [0.],\n",
            "        [1.],\n",
            "        [1.],\n",
            "        [1.],\n",
            "        [1.],\n",
            "        [1.],\n",
            "        [0.],\n",
            "        [0.],\n",
            "        [1.],\n",
            "        [1.],\n",
            "        [0.],\n",
            "        [1.],\n",
            "        [1.],\n",
            "        [0.],\n",
            "        [0.],\n",
            "        [1.],\n",
            "        [0.],\n",
            "        [1.],\n",
            "        [1.],\n",
            "        [0.]])\n",
            "tensor([[-0.7085,  0.1531, -0.7017,  ..., -0.5107,  0.5043,  0.2811],\n",
            "        [-0.9578, -2.2431, -0.9696,  ..., -1.0445, -1.3419, -0.3880],\n",
            "        [-0.4850, -0.6859, -0.3837,  ...,  0.2937,  0.5457,  1.0246],\n",
            "        ...,\n",
            "        [-0.2501, -1.0694, -0.3051,  ..., -0.2239, -1.4462, -1.1865],\n",
            "        [-0.2042,  0.0625, -0.2593,  ...,  0.0175, -0.0284, -0.5634],\n",
            "        [ 3.8046,  1.6058,  3.9461,  ...,  2.2410, -0.4304, -0.5335]])\n"
          ]
        }
      ],
      "source": [
        "# TO-DO LIST\n",
        "# 1. Import the necessariesss\n",
        "# 2. Data preping\n",
        "# 3. Scale before conversion\n",
        "# 4. Design the model (inputs & outputs sizes, forward pass)\n",
        "# 5. compute loss and optimizer\n",
        "# 6. Training loop\n",
        "#    - Forward pass: Compute Prediction\n",
        "#    - Backward pass: Calculate gradient\n",
        "#    - Update parameters\n",
        "# 7. Evalaute (This time just using graph)\n",
        "\n",
        "\n",
        "#1.\n",
        "import torch\n",
        "import torch.nn as nn\n",
        "import numpy as np\n",
        "from sklearn import datasets\n",
        "from sklearn.preprocessing import StandardScaler\n",
        "from sklearn.model_selection import train_test_split\n",
        "import matplotlib.pyplot as plt\n",
        "\n",
        "#2.\n",
        "bc = datasets.load_breast_cancer()\n",
        "X, y = bc.data, bc.target\n",
        "\n",
        "n_samples, n_features = X.shape\n",
        "#print(n_samples, n_features )\n",
        "\n",
        "#split data\n",
        "X_train, X_test, y_train, y_test = train_test_split(X,y, test_size = 0.2, random_state = 1234)\n",
        "\n",
        "#3.\n",
        "sc = StandardScaler()\n",
        "X_train = sc.fit_transform(X_train)\n",
        "X_test = sc.transform(X_test)\n",
        "\n",
        "#4.\n",
        "X_train = torch.from_numpy(X_train.astype(np.float32))\n",
        "X_test = torch.from_numpy(X_test.astype(np.float32))\n",
        "y_train = torch.from_numpy(y_train.astype(np.float32))\n",
        "y_test = torch.from_numpy(y_test.astype(np.float32))\n",
        "#Conversion\n",
        "y_train = y_train.view(y_train.shape[0], 1)\n",
        "y_test = y_test.view(y_test.shape[0], 1)\n",
        "\n",
        "#5.\n",
        "# f = wx + b, sigmoid at the end to return a value between 0 and 1\n",
        "class LogisticRegression(nn.Module):\n",
        "  def __init__(self, n_input_features):\n",
        "    super(LogisticRegression, self).__init__()\n",
        "    self.linear = nn.Linear(n_input_features, 1)\n",
        "\n",
        "\n",
        "  def forward (self, x):\n",
        "     y_predicted = torch.sigmoid(self.linear(x))\n",
        "     return  y_predicted\n",
        "\n",
        "model = LogisticRegression(n_features)\n",
        "\n",
        "#6.\n",
        "criterion = nn.BCELoss()\n",
        "optimizer = torch.optim.SGD(model.parameters(), lr = 0.01)\n",
        "\n",
        "num_epoch = 200\n",
        "for epoch in range (num_epoch):\n",
        "  #forward pass\n",
        "  y_predicted = model(X_train)\n",
        "\n",
        "  #loss\n",
        "  loss = criterion(y_predicted, y_train)\n",
        "\n",
        "  #Backward\n",
        "  loss.backward()\n",
        "\n",
        "  #optimizer\n",
        "  optimizer.step()\n",
        "\n",
        "  #zero gradients\n",
        "  optimizer.zero_grad()\n",
        "\n",
        "  if (epoch+1) % 20 == 0:\n",
        "    #Use this to pick the weights\n",
        "    #[w, b] = model.parameters()\n",
        "    #print(f'epoch: {epoch+1}/{num_epoch} Weight: {w[0][0]:.3f} loss: {loss.item():.5f}')\n",
        "    print(f'epoch: {epoch+1}/{num_epoch} loss: {loss.item():.5f}')\n",
        "\n",
        "\n",
        "#7.\n",
        "with torch.no_grad():\n",
        "  y_predicted = model(X_test)\n",
        "  y_predicted_cls = y_predicted.round()             #to provide a boundary for the classification to give 1 or 0 class\n",
        "  accuracy = y_predicted_cls.eq(y_test).sum() /  float(y_test.shape[0]) # y_predicted.eq(y_test).sum() / y.test.size()\n",
        "  print(f'Accuracy: {accuracy:.2f}')\n",
        "  print(y_predicted.round()  )\n",
        "  print(X_test)\n",
        "\n",
        "\n",
        "#8. trying plot (i will wait till i learn more)\n",
        "#y_predicted = model(X_train).detach().numpy()\n",
        "#plt.plot( y_train, 'ro')\n",
        "#plt.plot( y_predicted, 'b')\n",
        "#plt.show()"
      ]
    },
    {
      "cell_type": "markdown",
      "metadata": {
        "id": "ioXXfVladjZS"
      },
      "source": [
        "DATA SETS X DATA LOADER - FOR EXPLANATION"
      ]
    },
    {
      "cell_type": "code",
      "execution_count": null,
      "metadata": {
        "id": "ZyQPPHczdjH-"
      },
      "outputs": [],
      "source": [
        "#1.\n",
        "data = numpy.loadtxt('wine.csv')\n",
        "#training loop\n",
        "for epoch in range(1000):\n",
        "  x, y = data\n",
        "  #forward + backward + weight updates\n",
        "\n",
        "\n",
        "#2.\n",
        "#training loop\n",
        "for epoch in range(1000):\n",
        "  #loop for all batches\n",
        "  for i in range(total_batches):\n",
        "    x_batch, y_batch = . . .\n",
        "\n",
        "# --> use DataSet and DataLoader to load.wine.csv\n",
        "\n",
        "\n",
        "#3.\n",
        "'''\n",
        "epoch =. 1 forward and backward pass for ALL training samples\n",
        "\n",
        "batch_size = number of training samples in one forward & backward pass\n",
        "\n",
        "number of iterations = number of passes, each pass using [batch_size] number of samples\n",
        "\n",
        "e.g. 100 samples, batch_size = 20 --> 100/20 = 5 iterations for 1 epoch\n",
        "'''\n",
        "\n",
        "\n",
        "#start\n",
        "\n"
      ]
    },
    {
      "cell_type": "markdown",
      "metadata": {
        "id": "NyKlF0qhzz_j"
      },
      "source": [
        "#DATA SETS X DATA LOADER - Practice"
      ]
    },
    {
      "cell_type": "code",
      "execution_count": null,
      "metadata": {
        "cellView": "code",
        "colab": {
          "base_uri": "https://localhost:8080/"
        },
        "id": "1f6T1UP_z4YS",
        "outputId": "0505d561-d6e9-40d4-b655-a0c7f54e66e5"
      },
      "outputs": [
        {
          "name": "stdout",
          "output_type": "stream",
          "text": [
            "Total samples: 178, Number of iterations: 45\n",
            "Epoch 1/2 steps 5/45  inputs torch.Size([4, 13])\n",
            "Epoch 1/2 steps 10/45  inputs torch.Size([4, 13])\n",
            "Epoch 1/2 steps 15/45  inputs torch.Size([4, 13])\n",
            "Epoch 1/2 steps 20/45  inputs torch.Size([4, 13])\n",
            "Epoch 1/2 steps 25/45  inputs torch.Size([4, 13])\n",
            "Epoch 1/2 steps 30/45  inputs torch.Size([4, 13])\n",
            "Epoch 1/2 steps 35/45  inputs torch.Size([4, 13])\n",
            "Epoch 1/2 steps 40/45  inputs torch.Size([4, 13])\n",
            "Epoch 1/2 steps 45/45  inputs torch.Size([2, 13])\n",
            "Epoch 2/2 steps 5/45  inputs torch.Size([4, 13])\n",
            "Epoch 2/2 steps 10/45  inputs torch.Size([4, 13])\n",
            "Epoch 2/2 steps 15/45  inputs torch.Size([4, 13])\n",
            "Epoch 2/2 steps 20/45  inputs torch.Size([4, 13])\n",
            "Epoch 2/2 steps 25/45  inputs torch.Size([4, 13])\n",
            "Epoch 2/2 steps 30/45  inputs torch.Size([4, 13])\n",
            "Epoch 2/2 steps 35/45  inputs torch.Size([4, 13])\n",
            "Epoch 2/2 steps 40/45  inputs torch.Size([4, 13])\n",
            "Epoch 2/2 steps 45/45  inputs torch.Size([2, 13])\n"
          ]
        }
      ],
      "source": [
        "\n",
        "import torch\n",
        "import torchvision\n",
        "from torch.utils.data import Dataset, DataLoader\n",
        "import numpy as np\n",
        "import math\n",
        "\n",
        "class WineSet(Dataset):\n",
        "  def __init__(self):\n",
        "    #data loading\n",
        "    xy = np.loadtxt('/content/wine (1).csv', delimiter = \",\", dtype = np.float32, skiprows = 1)\n",
        "    self.x = torch.from_numpy(xy[:, 1:])\n",
        "    self.y = torch.from_numpy(xy[:, [0]]) #n_samples, 1\n",
        "    self.n_samples = xy.shape[0]\n",
        "\n",
        "  def __getitem__(self, index):\n",
        "    #dataset[0]\n",
        "    return self.x[index],self.y[index]\n",
        "\n",
        "  def __len__(self):\n",
        "    #len(Dataset)\n",
        "    return self.n_samples\n",
        "\n",
        "\n",
        "#just loading the dataset\n",
        "'''\n",
        "dataset = WineSet()\n",
        "first_data = dataset[1]\n",
        "print('first_dataset', first_data)\n",
        "features,labels = first_data\n",
        "print(features, labels)\n",
        "'''\n",
        "\n",
        "#with dataloader\n",
        "'''\n",
        "dataset = WineSet()\n",
        "dataloader = DataLoader(dataset= dataset, batch_size= 4, shuffle= True, num_workers= 2)\n",
        "\n",
        "datatiter = iter(dataloader)\n",
        "#data = datatiter.next()\n",
        "for datatiter in dataloader:\n",
        "  features, labels = datatiter\n",
        "  print(features, labels)\n",
        "'''\n",
        "\n",
        "#Dummy training loop\n",
        "dataset = WineSet()\n",
        "dataloader = DataLoader(dataset= dataset, batch_size= 4, shuffle= True, num_workers= 2)\n",
        "\n",
        "num_epochs = 2\n",
        "sampless = len(dataset)\n",
        "n_iterations = math.ceil(sampless/4)\n",
        "print(f'Total samples: {sampless}, Number of iterations: {n_iterations}')\n",
        "\n",
        "for epoch in range(num_epochs):\n",
        "   for i, (inputs, labels) in enumerate(dataloader):\n",
        "    #forward, backward, update\n",
        "    if (1+i) % 5 == 0:\n",
        "      print(f'Epoch {epoch+1}/{num_epochs} steps {i+1}/{n_iterations}  inputs {inputs.shape}')\n"
      ]
    },
    {
      "cell_type": "code",
      "execution_count": null,
      "metadata": {
        "colab": {
          "base_uri": "https://localhost:8080/"
        },
        "id": "TsEi1KCzl-g-",
        "outputId": "d537c349-30b8-4c61-f81f-3051a93230cf"
      },
      "outputs": [
        {
          "data": {
            "text/plain": [
              "array([ 4, 13, 28, 27, 18])"
            ]
          },
          "execution_count": 47,
          "metadata": {},
          "output_type": "execute_result"
        }
      ],
      "source": [
        "import numpy as np\n",
        "\n",
        "np.convolve((1,2,3), (4,5,6))"
      ]
    },
    {
      "cell_type": "markdown",
      "metadata": {
        "id": "VCSzr8sQxRla"
      },
      "source": [
        "#Dataset Transforms"
      ]
    },
    {
      "cell_type": "code",
      "execution_count": null,
      "metadata": {
        "colab": {
          "base_uri": "https://localhost:8080/"
        },
        "id": "nqvqgxdyxQFG",
        "outputId": "61ccae55-930e-437b-ff6c-398524689758"
      },
      "outputs": [
        {
          "name": "stdout",
          "output_type": "stream",
          "text": [
            "[1.423e+01 1.710e+00 2.430e+00 1.560e+01 1.270e+02 2.800e+00 3.060e+00\n",
            " 2.800e-01 2.290e+00 5.640e+00 1.040e+00 3.920e+00 1.065e+03]\n",
            "<class 'numpy.ndarray'> <class 'numpy.ndarray'>\n",
            "tensor([5.6920e+01, 6.8400e+00, 9.7200e+00, 6.2400e+01, 5.0800e+02, 1.1200e+01,\n",
            "        1.2240e+01, 1.1200e+00, 9.1600e+00, 2.2560e+01, 4.1600e+00, 1.5680e+01,\n",
            "        4.2600e+03])\n",
            "<class 'torch.Tensor'> <class 'torch.Tensor'>\n"
          ]
        }
      ],
      "source": [
        "#import torch\n",
        "#import torchvision\n",
        "\n",
        "\n",
        "#dataset = torchvision.datasets.MNIST(root = './data', transform=torchvision.ToTensor())\n",
        "\n",
        "\n",
        "\n",
        "import torch\n",
        "import torchvision\n",
        "from torch.utils.data import Dataset, DataLoader\n",
        "import numpy as np\n",
        "import math\n",
        "\n",
        "class WineSet(Dataset):\n",
        "\n",
        "  def __init__(self, transform  = None):\n",
        "    #data loading\n",
        "    xy = np.loadtxt('/content/wine (1).csv', delimiter = \",\", dtype = np.float32, skiprows = 1)\n",
        "    self.n_samples = xy.shape[0]\n",
        "\n",
        "    #note that there is no conversion to tensors here\n",
        "    self.x = xy[:, 1:]\n",
        "    self.y = xy[:, [0]] #n_samples, 1\n",
        "\n",
        "    self.transform = transform\n",
        "\n",
        "\n",
        "  def __getitem__(self, index):\n",
        "    #dataset[0]\n",
        "    sample =  self.x[index],self.y[index]\n",
        "\n",
        "    if self.transform:\n",
        "      sample = self.transform(sample)\n",
        "\n",
        "    return sample\n",
        "\n",
        "  def __len__(self):\n",
        "    #len(Dataset)\n",
        "    return self.n_samples\n",
        "\n",
        "class ToTensor: #transform class\n",
        "  def __call__ (self, sample):\n",
        "    inputs, targets = sample\n",
        "    return torch.from_numpy(inputs), torch.from_numpy(targets)\n",
        "\n",
        "\n",
        "class MulTransform:\n",
        "  def __init__(self, factor):\n",
        "    self. factor = factor\n",
        "\n",
        "  def __call__(self, sample):\n",
        "    inputs, target = sample\n",
        "    inputs *= self. factor\n",
        "    return inputs, target\n",
        "\n",
        "\n",
        "#dataset = WineSet(transform = ToTensor())\n",
        "dataset = WineSet(transform = None)\n",
        "firsts_data = dataset[0]\n",
        "features, labels =  firsts_data\n",
        "print(features)\n",
        "print(type(features), type(labels) )\n",
        "\n",
        "composed = torchvision.transforms.Compose([ToTensor(), MulTransform(4)])\n",
        "dataset = WineSet(transform = composed)\n",
        "firsts_data = dataset[0]\n",
        "features, labels =  firsts_data\n",
        "print(features)\n",
        "print(type(features), type(labels) )\n",
        "\n",
        "\n",
        "\n",
        "\n",
        "# TRANSfprmation On Images\n",
        "'''\n",
        "# TRANSfprmation On Images\n",
        "\n",
        "CenterCrop, Grayscale, Pad, RandomAffine\n",
        "RandomCrop, RandomHorizontalFlip, RandomRotation\n",
        "Resize, Scale\n",
        "'''"
      ]
    },
    {
      "cell_type": "markdown",
      "metadata": {
        "id": "h_2pzk1rJDJM"
      },
      "source": [
        "#SoftMAX"
      ]
    },
    {
      "cell_type": "code",
      "execution_count": null,
      "metadata": {
        "colab": {
          "base_uri": "https://localhost:8080/"
        },
        "id": "RGp0qC6nIs_x",
        "outputId": "3c5b9745-f83b-434b-838b-03133071f1c2"
      },
      "outputs": [
        {
          "name": "stdout",
          "output_type": "stream",
          "text": [
            "softmax numpy = [0.65900114 0.24243297 0.09856589]\n",
            "softmax pytorch = [0.7, 0.2, 0.1]\n"
          ]
        }
      ],
      "source": [
        "import torch\n",
        "import torch.nn as nn\n",
        "import numpy as np\n",
        "\n",
        "def softmax(x):\n",
        "  return np.exp(x) / np.sum(np.exp(x), axis=0)\n",
        "\n",
        "x = np.array([2.0,1.0,0.1])\n",
        "outputs = softmax(x)\n",
        "print(f'softmax numpy = {outputs}')\n",
        "\n",
        "\n",
        "#Using pytorch\n",
        "x = torch.tensor([2.0,1.0,0.1])\n",
        "outputs = torch.softmax(x, dim = 0)\n",
        "\n",
        "#print(f'softmax pytorch = {outputs:}')\n",
        "formatted_outputs = ', '.join([f'{value:.1f}' for value in outputs]) #Approximation step\n",
        "print(f'softmax pytorch = [{formatted_outputs}]')\n",
        "\n"
      ]
    },
    {
      "cell_type": "markdown",
      "metadata": {
        "id": "czXUxq_e0Lw1"
      },
      "source": [
        "#Cross Entropy"
      ]
    },
    {
      "cell_type": "code",
      "execution_count": null,
      "metadata": {
        "colab": {
          "base_uri": "https://localhost:8080/"
        },
        "id": "ZPFkvnZy0Lbu",
        "outputId": "4b3b1f23-10aa-48e9-8947-b0caf4ec84f7"
      },
      "outputs": [
        {
          "name": "stdout",
          "output_type": "stream",
          "text": [
            "Loss1 numpy: 0.3567\n",
            "Loss2 numpy: 2.3026\n",
            "---------------------\n",
            "Loss1 pytorch: 0.163\n",
            "Loss2 pytorch: 1.655\n",
            "---------------------\n",
            "predictions1: tensor([2.1000, 8.0000, 3.0000]) indicies1: tensor([2, 0, 1])\n",
            "predictions2: tensor([2.1000, 2.1000, 3.0000]) indicies2: tensor([0, 2, 1])\n"
          ]
        }
      ],
      "source": [
        "import torch\n",
        "import torch.nn as nn\n",
        "import numpy as np\n",
        "\n",
        "def cross_entropy (actual, predicted):\n",
        "  loss = -np.sum(actual * np.log(predicted))\n",
        "  return loss # / float(predicted.shape[0])\n",
        "\n",
        "#Or\n",
        "'''\n",
        "def cross_entropy (actual, predicted):\n",
        "  return -np.sum(actual * np.log(predicted))\n",
        "  #return loss # / float(predicted.shape[0])\n",
        "'''\n",
        "\n",
        "# Y must be one hot encoded (means wherever 1 is, the highest probability should be there. Hence, a good prediction)\n",
        "# if class 0: [1 0 0]\n",
        "# if class 1: [0 1 0]\n",
        "# if class 2: [0 0 1]\n",
        "Y = np.array ( [1, 0, 0])\n",
        "\n",
        "# y_pred has probabilities\n",
        "Y_pred_good = np.array([0.7, 0.2, 0.1])\n",
        "Y_pred_bad = np.array([0.1, 0.3, 0.6])\n",
        "l1 = cross_entropy(Y, Y_pred_good)\n",
        "l2 = cross_entropy(Y, Y_pred_bad)\n",
        "print(f'Loss1 numpy: {l1:.4f}')\n",
        "print(f'Loss2 numpy: {l2:.4f}')\n",
        "\n",
        "\n",
        "\n",
        "#Using pytorch\n",
        "loss = nn.CrossEntropyLoss()\n",
        "\n",
        "Y = torch.tensor([2, 0, 1])\n",
        "# n_samples x n_classes = 3 x3\n",
        "Y_pred_good = torch.tensor([[0.1, 1.0, 2.1], [8.0, 1.0, 0.1], [0.1, 3.0, 0.1]])\n",
        "Y_pred_bad = torch.tensor([[2.1, 1.0, 0.1], [0., 1.0, 2 .1], [0.1, 3.0, 0.1]])\n",
        "\n",
        "l3 = loss(Y_pred_good, Y)\n",
        "l4 = loss(Y_pred_bad, Y)\n",
        "\n",
        "print(f'---------------------')\n",
        "print(f'Loss1 pytorch: {l3.item():.3f}')\n",
        "print(f'Loss2 pytorch: {l4.item():.3f}')\n",
        "\n",
        "predictions1, indicies1 = torch.max(Y_pred_good, 1)\n",
        "predictions2, indicies2  = torch.max(Y_pred_bad, 1)\n",
        "print(f'---------------------')\n",
        "print(f'predictions1: {predictions1} indicies1: {indicies1}')\n",
        "print(f'predictions2: {predictions2} indicies2: {indicies2}')"
      ]
    },
    {
      "cell_type": "markdown",
      "metadata": {
        "id": "xjK1vspMDP1A"
      },
      "source": [
        "#Multi Class"
      ]
    },
    {
      "cell_type": "code",
      "execution_count": null,
      "metadata": {
        "id": "UpChAFDXnziX"
      },
      "outputs": [],
      "source": [
        "import torch\n",
        "import torch.nn as nn\n",
        "\n",
        "# Multiclass problem\n",
        "class NeuralNet2(nn.Module) :\n",
        "  def __init__(self, input_size, hidden_size, num_classes):\n",
        "    super(NeuralNet2, self)._init_()\n",
        "    self.linearl = nn. Linear (input_size, hidden_size)\n",
        "    self.relu = nn.ReLU()\n",
        "    self.linear2 = nn. Linear (hidden_size, num_classes)\n",
        "\n",
        "  def forward (self, x):\n",
        "    out = self.linear1(x)\n",
        "    out = self.relu (out)\n",
        "    out = self.linear2 (out)\n",
        "    # no softmax at the end\n",
        "    return out\n",
        "\n",
        "model = NeuralNet2(input_size=28*28, hidden_size=5, num_classes=3)\n",
        "criterion = nn. CrossEntropyLoss () # (applies Softmax)"
      ]
    },
    {
      "cell_type": "markdown",
      "metadata": {
        "id": "Dbok3mKeD52A"
      },
      "source": [
        "#Binary class\n",
        "\n",
        "#Note: Methods of using Activation functions are showed here\n",
        "\n",
        "Most popular activation\n",
        "functions\n",
        "\n",
        "1. Step function\n",
        "2. Sigmoid\n",
        "3. TànH\n",
        "4. ReLU\n",
        "5. Leaky ReLU\n",
        "6. Softmax"
      ]
    },
    {
      "cell_type": "code",
      "execution_count": null,
      "metadata": {
        "id": "9qV3A63KDYHa"
      },
      "outputs": [],
      "source": [
        "import torch\n",
        "import torch.nn as nn\n",
        "import torch.nn.functional as F\n",
        "\n",
        "# Binary classification\n",
        "\n",
        "# option 1 (use activation functions seperately in forward pass)\n",
        "class NeuralNet1(nn.Module) :\n",
        "  def __init__(self, input_size, hidden_size):\n",
        "    super (NeuralNet1, self).__init__()\n",
        "    self.linear1 = nn.Linear(input_size, hidden_size)\n",
        "    self.relu = nn.ReLU()\n",
        "    #Others are written as...\n",
        "    '''\n",
        "    nn.Sigmoid\n",
        "    nn.Softmax\n",
        "    nn.TanH\n",
        "    nn.LeakyReLU\n",
        "    '''\n",
        "    self.linear2 = nn.Linear(hidden_size, 1)\n",
        "\n",
        "  def forward (self, x):\n",
        "    out = self.linear1(x)\n",
        "    out = self.relu(out)\n",
        "    out = self.linear2 (out)\n",
        "    # sigmoid at the end\n",
        "    y_pred = torch. sigmoid (out)\n",
        "    return y_pred\n",
        "\n",
        "# option 2 (use activation functions directly in forward pass)\n",
        "class NeuralNet(nn.Module) :\n",
        "  def __init__(self, input_size, hidden_size):\n",
        "    super (NeuralNet, self).__init__()\n",
        "    self.linear1 = nn.Linear(input_size, hidden_size)\n",
        "    self.linear2 = nn.Linear (hidden_size, 1)\n",
        "\n",
        "  def forward (self, x):\n",
        "    out = torch.relu(self.linear1(x))\n",
        "    out = torch.sigmoid(self.linear2(out))\n",
        "\n",
        "    #Others are written as...\n",
        "    '''\n",
        "    F.reLU()     #some have to be imported from the torch.nn.functional\n",
        "    F.leaky_relu( )\n",
        "    torch.softmax\n",
        "    torch.tanh\n",
        "    '''\n",
        "    return out\n",
        "\n",
        "model = NeuralNet1(input_size=28*28, hidden_size=5)\n",
        "criterion = nn.BCELoss()"
      ]
    },
    {
      "cell_type": "markdown",
      "metadata": {
        "id": "BvMQ8lliJ5JH"
      },
      "source": [
        "#Feed-Forward Neural Network"
      ]
    },
    {
      "cell_type": "code",
      "execution_count": null,
      "metadata": {
        "colab": {
          "base_uri": "https://localhost:8080/",
          "height": 654
        },
        "id": "P-wBjbJ-J3qH",
        "outputId": "b031be43-3af6-4329-e9b4-4bee6e504adb"
      },
      "outputs": [
        {
          "output_type": "stream",
          "name": "stdout",
          "text": [
            "torch.Size([100, 1, 28, 28]) torch.Size([100])\n",
            "epoch 1/2  step 100/600  loss: 0.349\n",
            "epoch 1/2  step 200/600  loss: 0.413\n",
            "epoch 1/2  step 300/600  loss: 0.317\n",
            "epoch 1/2  step 400/600  loss: 0.309\n",
            "epoch 1/2  step 500/600  loss: 0.307\n",
            "epoch 1/2  step 600/600  loss: 0.207\n",
            "epoch 2/2  step 100/600  loss: 0.171\n",
            "epoch 2/2  step 200/600  loss: 0.279\n",
            "epoch 2/2  step 300/600  loss: 0.135\n",
            "epoch 2/2  step 400/600  loss: 0.140\n",
            "epoch 2/2  step 500/600  loss: 0.176\n",
            "epoch 2/2  step 600/600  loss: 0.186\n",
            "accuracy: 95.07\n"
          ]
        },
        {
          "output_type": "display_data",
          "data": {
            "text/plain": [
              "<Figure size 640x480 with 6 Axes>"
            ],
            "image/png": "[encoded data removed]"
          },
          "metadata": {}
        }
      ],
      "source": [
        "#1. Import\n",
        "#2. MNIST\n",
        "#3. DataLoader, Transformation\n",
        "#4. Multilayer Neural Net, activation function\n",
        "#5. Loss and Optimizer\n",
        "#6. Training Loop (batch training)\n",
        "#7. Model evaluation\n",
        "#8. GPU support\n",
        "\n",
        "#1.\n",
        "import torch\n",
        "import torch.nn as nn\n",
        "import torchvision\n",
        "import torchvision.transforms as transforms\n",
        "import matplotlib.pyplot as plt\n",
        "\n",
        "#Device configuration\n",
        "device = torch.device( 'cuda' if torch.cuda.is_available() else 'cpu')\n",
        "\n",
        "#Hyper parameters\n",
        "input_size = 784 # 28x28\n",
        "hidden_size = 100\n",
        "num_classes =  10\n",
        "num_epochs = 2\n",
        "batch_size = 100\n",
        "learning_rate = 0.001\n",
        "\n",
        "#2. MNIST\n",
        "training_dataset = torchvision.datasets.MNIST(root = './data' , train =True,  transform=transforms.ToTensor(), download=True)\n",
        "testing_dataset = torchvision.datasets.MNIST(root = './data' , train =False,  transform=transforms.ToTensor())\n",
        "\n",
        "#3.\n",
        "training_loader = torch.utils.data.DataLoader(dataset = training_dataset, batch_size = batch_size, shuffle = True)\n",
        "testing_loader = torch.utils.data.DataLoader(dataset = testing_dataset, batch_size = batch_size, shuffle = False)\n",
        "\n",
        "#Transformations\n",
        "examples = iter(testing_loader)\n",
        "samples, labels = next(examples)\n",
        "print(samples.shape, labels.shape)\n",
        "\n",
        "#plot\n",
        "for i in range(6):\n",
        "  plt.subplot (2, 3, i+1)\n",
        "  plt.imshow(samples [i] [0], cmap='gray')\n",
        "  #plt.show()\n",
        "\n",
        "#4.\n",
        "class NeuralNet(nn.Module):\n",
        "  def __init__(self, input_size, hidden_size, num_classes):\n",
        "    super(NeuralNet, self) .__init__()\n",
        "    self.input_size = input_size\n",
        "    self.l1 = nn.Linear(input_size, hidden_size)\n",
        "    self.relu = nn.ReLU()\n",
        "    self.l2 = nn.Linear(hidden_size, num_classes)\n",
        "\n",
        "  def forward(self, x):\n",
        "    out = self.l1(x)\n",
        "    out = self.relu(out)\n",
        "    out = self.l2(out)\n",
        "    return out\n",
        "\n",
        "\n",
        "model = NeuralNet(input_size, hidden_size, num_classes).to(device)\n",
        "\n",
        "#5.\n",
        "optimizer = torch.optim.Adam(model.parameters(), lr = learning_rate)\n",
        "criterion = nn.CrossEntropyLoss()\n",
        "\n",
        "#6.\n",
        "n_total_steps = len(training_loader)\n",
        "for epoch in range(num_epochs):\n",
        "  for i, (images, labels) in enumerate(training_loader):\n",
        "    #100, 1, 28, 28\n",
        "    #100, 784\n",
        "    images = images.reshape(-1, 28*28).to(device)\n",
        "    labels = labels.to(device)\n",
        "\n",
        "    #forward pass\n",
        "    outputs = model(images)\n",
        "    loss = criterion(outputs, labels)\n",
        "\n",
        "    #Backward pass\n",
        "    optimizer.zero_grad()\n",
        "    loss.backward()\n",
        "    optimizer.step()\n",
        "    if (i+1) % 100 == 0:\n",
        "      print (f'epoch {epoch+1}/{num_epochs}  step {i+1}/{n_total_steps}  loss: {loss.item():.3f}')\n",
        "\n",
        "\n",
        "\n",
        "#test\n",
        "with  torch.no_grad():\n",
        "  no_correct = 0\n",
        "  no_samples = 0\n",
        "  for images, labels in testing_loader:\n",
        "    images = images.reshape(-1, 28*28).to(device)\n",
        "    labels = labels.to(device)\n",
        "    outputs = model(images)\n",
        "    #value, index\n",
        "    _, predictions = torch.max(outputs, 1)\n",
        "    no_samples += labels.shape[0]\n",
        "    no_correct += (predictions == labels).sum().item()\n",
        "\n",
        "  accuracy = 100.0 * no_correct / no_samples\n",
        "  print(f'accuracy: {accuracy}')"
      ]
    },
    {
      "cell_type": "code",
      "source": [
        "from google.colab import drive\n",
        "drive.mount('/content/drive')"
      ],
      "metadata": {
        "id": "ho6y998wTJmf"
      },
      "execution_count": null,
      "outputs": []
    },
    {
      "cell_type": "code",
      "execution_count": null,
      "metadata": {
        "id": "xavs9sydUQ7B"
      },
      "outputs": [],
      "source": [
        "for i in range(3):\n",
        "  num = eval(input('Enter a number: '))\n",
        "  print ('The square of your number is', num*num)\n",
        "  print('The loop is now done.')"
      ]
    },
    {
      "cell_type": "code",
      "source": [
        "import torch\n",
        "import torch.nn as nn\n",
        "import torchvision\n",
        "import torchvision.transforms as transforms\n",
        "import matplotlib.pyplot as plt\n",
        "\n",
        "# Device configuration\n",
        "device = torch.device('cuda' if torch.cuda.is_available() else 'cpu')\n",
        "\n",
        "# Hyper-parameters\n",
        "input_size = 784 # 28x28\n",
        "hidden_size = 500\n",
        "num_classes = 10\n",
        "num_epochs = 2\n",
        "batch_size = 100\n",
        "learning_rate = 0.001\n",
        "\n",
        "# MNIST dataset\n",
        "train_dataset = torchvision.datasets.MNIST(root='./data',\n",
        "                                           train=True,\n",
        "                                           transform=transforms.ToTensor(),\n",
        "                                           download=True)\n",
        "\n",
        "test_dataset = torchvision.datasets.MNIST(root='./data',\n",
        "                                          train=False,\n",
        "                                          transform=transforms.ToTensor())\n",
        "\n",
        "# Data loader\n",
        "train_loader = torch.utils.data.DataLoader(dataset=train_dataset,\n",
        "                                           batch_size=batch_size,\n",
        "                                           shuffle=True)\n",
        "\n",
        "test_loader = torch.utils.data.DataLoader(dataset=test_dataset,\n",
        "                                          batch_size=batch_size,\n",
        "                                          shuffle=False)\n",
        "\n",
        "examples = iter(test_loader)\n",
        "example_data, example_targets = next(examples)\n",
        "\n",
        "for i in range(6):\n",
        "    plt.subplot(2,3,i+1)\n",
        "    plt.imshow(example_data[i][0], cmap='gray')\n",
        "plt.show()\n",
        "\n",
        "# Fully connected neural network with one hidden layer\n",
        "class NeuralNet(nn.Module):\n",
        "    def __init__(self, input_size, hidden_size, num_classes):\n",
        "        super(NeuralNet, self).__init__()\n",
        "        self.input_size = input_size\n",
        "        self.l1 = nn.Linear(input_size, hidden_size)\n",
        "        self.relu = nn.ReLU()\n",
        "        self.l2 = nn.Linear(hidden_size, num_classes)\n",
        "\n",
        "    def forward(self, x):\n",
        "        out = self.l1(x)\n",
        "        out = self.relu(out)\n",
        "        out = self.l2(out)\n",
        "        # no activation and no softmax at the end\n",
        "        return out\n",
        "\n",
        "model = NeuralNet(input_size, hidden_size, num_classes).to(device)\n",
        "\n",
        "# Loss and optimizer\n",
        "criterion = nn.CrossEntropyLoss()\n",
        "optimizer = torch.optim.Adam(model.parameters(), lr=learning_rate)\n",
        "\n",
        "# Train the model\n",
        "n_total_steps = len(train_loader)\n",
        "for epoch in range(num_epochs):\n",
        "    for i, (images, labels) in enumerate(train_loader):\n",
        "        # origin shape: [100, 1, 28, 28]\n",
        "        # resized: [100, 784]\n",
        "        images = images.reshape(-1, 28*28).to(device)\n",
        "        labels = labels.to(device)\n",
        "\n",
        "        # Forward pass\n",
        "        outputs = model(images)\n",
        "        loss = criterion(outputs, labels)\n",
        "\n",
        "        # Backward and optimize\n",
        "        optimizer.zero_grad()\n",
        "        loss.backward()\n",
        "        optimizer.step()\n",
        "\n",
        "        if (i+1) % 100 == 0:\n",
        "            print (f'Epoch [{epoch+1}/{num_epochs}], Step [{i+1}/{n_total_steps}], Loss: {loss.item():.4f}')\n",
        "\n",
        "# Test the model\n",
        "# In test phase, we don't need to compute gradients (for memory efficiency)\n",
        "with torch.no_grad():\n",
        "    n_correct = 0\n",
        "    n_samples = 0\n",
        "    for images, labels in test_loader:\n",
        "        images = images.reshape(-1, 28*28).to(device)\n",
        "        labels = labels.to(device)\n",
        "        outputs = model(images)\n",
        "        # max returns (value ,index)\n",
        "        _, predicted = torch.max(outputs.data, 1)\n",
        "        n_samples += labels.size(0)\n",
        "        n_correct += (predicted == labels).sum().item()\n",
        "\n",
        "    acc = 100.0 * n_correct / n_samples\n",
        "    print(f'Accuracy of the network on the 10000 test images: {acc} %')"
      ],
      "metadata": {
        "colab": {
          "base_uri": "https://localhost:8080/",
          "height": 637
        },
        "id": "y_pxWG953hYe",
        "outputId": "604dcd5f-a73c-41b5-b0c9-0481fcaf49c7"
      },
      "execution_count": null,
      "outputs": [
        {
          "output_type": "display_data",
          "data": {
            "text/plain": [
              "<Figure size 640x480 with 6 Axes>"
            ],
            "image/png": "[encoded data removed]"
          },
          "metadata": {}
        },
        {
          "output_type": "stream",
          "name": "stdout",
          "text": [
            "Epoch [1/2], Step [100/600], Loss: 0.3181\n",
            "Epoch [1/2], Step [200/600], Loss: 0.2424\n",
            "Epoch [1/2], Step [300/600], Loss: 0.2264\n",
            "Epoch [1/2], Step [400/600], Loss: 0.1867\n",
            "Epoch [1/2], Step [500/600], Loss: 0.2833\n",
            "Epoch [1/2], Step [600/600], Loss: 0.1763\n",
            "Epoch [2/2], Step [100/600], Loss: 0.1028\n",
            "Epoch [2/2], Step [200/600], Loss: 0.1009\n",
            "Epoch [2/2], Step [300/600], Loss: 0.0859\n",
            "Epoch [2/2], Step [400/600], Loss: 0.0618\n",
            "Epoch [2/2], Step [500/600], Loss: 0.1878\n",
            "Epoch [2/2], Step [600/600], Loss: 0.0397\n",
            "Accuracy of the network on the 10000 test images: 97.11 %\n"
          ]
        }
      ]
    },
    {
      "cell_type": "markdown",
      "source": [
        "To run data/models on an Apple Silicon GPU, use the PyTorch device name \"mps\" with .to(\"mps\"). MPS stands for Metal Performance Shaders, Metal is Apple's GPU framework."
      ],
      "metadata": {
        "id": "smGBmMVQGLYT"
      }
    },
    {
      "cell_type": "code",
      "source": [
        "import torch\n",
        "\n",
        "# Set the device\n",
        "device = \"mps\" if torch.backends.mps.is_available() else \"cpu\"\n",
        "\n",
        "# Create data and send it to the device\n",
        "x = torch.rand(size=(3, 4)).to(device)\n",
        "x"
      ],
      "metadata": {
        "id": "0o1KkPM9GHf4"
      },
      "execution_count": null,
      "outputs": []
    },
    {
      "cell_type": "markdown",
      "source": [
        "#Steps I uploaded in my environment (Just in case)"
      ],
      "metadata": {
        "id": "eJcP8DDRkdjo"
      }
    },
    {
      "cell_type": "code",
      "source": [
        "pip3 install torch torchvision torchaudio\n",
        "conda install jupyter pandas numpy matplotlib scikit-learn tqdm\n",
        "!pip install PyDrive     #For google drive access\n",
        "!pip install roboflow     #for roboflow\n"
      ],
      "metadata": {
        "id": "qJk_ldrQkedU"
      },
      "execution_count": null,
      "outputs": []
    }
  ],
  "metadata": {
    "colab": {
      "provenance": [],
      "authorship_tag": "ABX9TyPCR3RwCP9F7GRH2qOpD9K8",
      "include_colab_link": true
    },
    "kernelspec": {
      "display_name": "Python 3",
      "name": "python3"
    },
    "language_info": {
      "name": "python"
    }
  },
  "nbformat": 4,
  "nbformat_minor": 0
}